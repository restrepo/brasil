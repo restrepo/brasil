{
 "cells": [
  {
   "cell_type": "markdown",
   "metadata": {},
   "source": [
    "# Brasil documents analysis"
   ]
  },
  {
   "cell_type": "markdown",
   "metadata": {},
   "source": [
    "### With Mongodb\n",
    "Only disc"
   ]
  },
  {
   "cell_type": "code",
   "execution_count": 69,
   "metadata": {},
   "outputs": [],
   "source": [
    "import pandas as pd\n",
    "pd.set_option('display.max_rows', 500)\n",
    "pd.set_option('display.max_columns', 500)\n",
    "pd.set_option('display.max_colwidth',200)"
   ]
  },
  {
   "cell_type": "code",
   "execution_count": 64,
   "metadata": {},
   "outputs": [],
   "source": [
    "br=pd.read_excel('/home/restrepo/colav/7.Datos/LA/Brasil/Original/Publicacoes-periodicos_2013-2020-Scopus.xlsx',nrows=10)"
   ]
  },
  {
   "cell_type": "code",
   "execution_count": 66,
   "metadata": {},
   "outputs": [
    {
     "data": {
      "text/plain": [
       "Index(['Authors', 'Author(s) ID', 'Title', 'Year', 'Source title', 'Volume',\n",
       "       'Issue', 'Art. No.', 'Page start', 'Page end', 'Page count', 'Cited by',\n",
       "       'DOI', 'Link', 'Affiliations', 'Authors with affiliations', 'Abstract',\n",
       "       'Author Keywords', 'Index Keywords', 'Molecular Sequence Numbers',\n",
       "       'Chemicals/CAS', 'Tradenames', 'Manufacturers', 'Funding Details',\n",
       "       'Funding Text 1', 'Funding Text 2', 'Funding Text 3', 'Funding Text 4',\n",
       "       'Funding Text 5', 'References', 'Correspondence Address', 'Editors',\n",
       "       'Sponsors', 'Publisher', 'Conference name', 'Conference date',\n",
       "       'Conference location', 'Conference code', 'ISSN', 'ISBN', 'CODEN',\n",
       "       'PubMed ID', 'Language of Original Document',\n",
       "       'Abbreviated Source Title', 'Document Type', 'Publication Stage',\n",
       "       'Access Type', 'Source', 'EID', 'ID bolsistas'],\n",
       "      dtype='object')"
      ]
     },
     "execution_count": 66,
     "metadata": {},
     "output_type": "execute_result"
    }
   ],
   "source": [
    "br.columns"
   ]
  },
  {
   "cell_type": "code",
   "execution_count": 84,
   "metadata": {},
   "outputs": [
    {
     "data": {
      "text/plain": [
       "{'Authors': 'SANCHES R., RAZKY A.',\n",
       " 'Title': 'Variação Linguística para Cigarro de Palha e Toco de Cigarro no Atlas Linguístico do Amapá',\n",
       " 'Year': 2015,\n",
       " 'Source title': 'Revista Todas as Letras (MACKENZIE. Online)',\n",
       " 'Volume': 17.0,\n",
       " 'Issue': nan,\n",
       " 'Page start': 196,\n",
       " 'Page end': 206.0,\n",
       " 'DOI': '10.15529/1980-6914/letras.v17n3p196-206',\n",
       " 'Author Keywords': nan,\n",
       " 'ISSN': 19806914,\n",
       " 'ID bolsistas': \"'8153913927369006\"}"
      ]
     },
     "execution_count": 84,
     "metadata": {},
     "output_type": "execute_result"
    }
   ],
   "source": [
    "do=br[['Authors',  'Title', 'Year', 'Source title', 'Volume',\n",
    "       'Issue',  'Page start', 'Page end','DOI', \n",
    "       'Author Keywords', 'ISSN',  'ID bolsistas']].loc[0].to_dict()\n",
    "do"
   ]
  },
  {
   "cell_type": "code",
   "execution_count": 24,
   "metadata": {},
   "outputs": [],
   "source": [
    "from pymongo import MongoClient\n",
    "from bson.objectid import ObjectId\n",
    "import sys"
   ]
  },
  {
   "cell_type": "code",
   "execution_count": 2,
   "metadata": {},
   "outputs": [],
   "source": [
    "client = MongoClient()"
   ]
  },
  {
   "cell_type": "code",
   "execution_count": 3,
   "metadata": {},
   "outputs": [],
   "source": [
    "client = MongoClient('localhost', 27017)"
   ]
  },
  {
   "cell_type": "code",
   "execution_count": 4,
   "metadata": {},
   "outputs": [],
   "source": [
    "#client.drop_database('la')"
   ]
  },
  {
   "cell_type": "code",
   "execution_count": 5,
   "metadata": {},
   "outputs": [
    {
     "data": {
      "text/plain": [
       "['br', 'la', 'local']"
      ]
     },
     "execution_count": 5,
     "metadata": {},
     "output_type": "execute_result"
    }
   ],
   "source": [
    "client.list_database_names()"
   ]
  },
  {
   "cell_type": "code",
   "execution_count": 6,
   "metadata": {},
   "outputs": [],
   "source": [
    "db = client['br']"
   ]
  },
  {
   "cell_type": "code",
   "execution_count": 7,
   "metadata": {},
   "outputs": [
    {
     "data": {
      "text/plain": [
       "['stage_cites',\n",
       " 'stage_cites_invalid',\n",
       " 'quarantine',\n",
       " 'stage_invalid',\n",
       " 'gslookup_not_found',\n",
       " 'data',\n",
       " 'cache_cites',\n",
       " 'stage']"
      ]
     },
     "execution_count": 7,
     "metadata": {},
     "output_type": "execute_result"
    }
   ],
   "source": [
    "db.list_collection_names()"
   ]
  },
  {
   "cell_type": "code",
   "execution_count": 8,
   "metadata": {},
   "outputs": [],
   "source": [
    "dt=db.get_collection('data')\n",
    "st=db.get_collection('stage')"
   ]
  },
  {
   "cell_type": "code",
   "execution_count": 39,
   "metadata": {},
   "outputs": [
    {
     "data": {
      "text/plain": [
       "418177"
      ]
     },
     "execution_count": 39,
     "metadata": {},
     "output_type": "execute_result"
    }
   ],
   "source": [
    "st.count_documents({})"
   ]
  },
  {
   "cell_type": "code",
   "execution_count": 187,
   "metadata": {},
   "outputs": [
    {
     "data": {
      "text/plain": [
       "0"
      ]
     },
     "execution_count": 187,
     "metadata": {},
     "output_type": "execute_result"
    }
   ],
   "source": [
    "400%100"
   ]
  },
  {
   "cell_type": "code",
   "execution_count": 190,
   "metadata": {},
   "outputs": [
    {
     "name": "stdout",
     "output_type": "stream",
     "text": [
      "437900\r"
     ]
    }
   ],
   "source": [
    "j=0\n",
    "br_new=pd.DataFrame()\n",
    "#cursor timeout: https://stackoverflow.com/a/24200795/2268280\n",
    "cursor=dt.find(no_cursor_timeout=True)\n",
    "for d in cursor:\n",
    "    i=d.get(\"article_id\")\n",
    "    #print(f'id: {i}')\n",
    "    l=[d for d in st.find({'article_id':str(i)})]\n",
    "    if l:\n",
    "        n=l[0].get('cites')\n",
    "        if not n:\n",
    "            n=0\n",
    "        d['cites']=n\n",
    "    else:\n",
    "        d['cites']=0\n",
    "    kk=[ d.pop(k) for k in \n",
    "        ['_id','publisher', 'country', 'abstract', 'language', 'article_id'] \n",
    "       ]\n",
    "    br_new=br_new.append(d,ignore_index=True)\n",
    "    if j%100==0:\n",
    "        print(str(j).zfill(6),end='\\r')\n",
    "    j+=1\n",
    "    #if j==20:\n",
    "    #    break\n",
    "cursor.close()    "
   ]
  },
  {
   "cell_type": "code",
   "execution_count": 206,
   "metadata": {},
   "outputs": [],
   "source": [
    "def check_page(p):\n",
    "    if isinstance(p,str):\n",
    "        return p\n",
    "    else:\n",
    "        return str(int(p))\n",
    "    \n",
    "br_new['ISSN']=br_new['ISSN'].apply(lambda x: str(int(x)).zfill(8) if isinstance(x,float) else str(x).zfill(8) )\n",
    "br_new['Page end']=br_new['Page end'].apply(lambda x: check_page(x) if not pd.isna(x) else None)\n",
    "br_new['Page start']=br_new['Page start'].apply(lambda x: check_page(x) if not pd.isna(x) else None)\n",
    "br_new['volume']=br_new['volume'].apply(lambda x: check_page(x) if not pd.isna(x) else None)\n",
    "br_new=br_new.astype({'year': int,'cites':int})"
   ]
  },
  {
   "cell_type": "code",
   "execution_count": 213,
   "metadata": {},
   "outputs": [],
   "source": [
    "br_new.to_excel('Publicacoes-periodicos_2013-2020-Scopus-con-citas.xlsx',index=False)"
   ]
  },
  {
   "cell_type": "code",
   "execution_count": 215,
   "metadata": {},
   "outputs": [
    {
     "name": "stdout",
     "output_type": "stream",
     "text": [
      "-rw-r--r-- 1 restrepo restrepo 78M Oct 19 22:31 Publicacoes-periodicos_2013-2020-Scopus-con-citas.xlsx\n"
     ]
    }
   ],
   "source": [
    "!ls -lh Publicacoes-periodicos_2013-2020-Scopus-con-citas.xlsx"
   ]
  },
  {
   "cell_type": "code",
   "execution_count": null,
   "metadata": {},
   "outputs": [],
   "source": []
  }
 ],
 "metadata": {
  "kernelspec": {
   "display_name": "Python 3 (ipykernel)",
   "language": "python",
   "name": "python3"
  },
  "language_info": {
   "codemirror_mode": {
    "name": "ipython",
    "version": 3
   },
   "file_extension": ".py",
   "mimetype": "text/x-python",
   "name": "python",
   "nbconvert_exporter": "python",
   "pygments_lexer": "ipython3",
   "version": "3.7.3"
  }
 },
 "nbformat": 4,
 "nbformat_minor": 4
}
