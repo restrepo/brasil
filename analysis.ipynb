{
 "cells": [
  {
   "cell_type": "markdown",
   "metadata": {},
   "source": [
    "# Brasil documents analysis"
   ]
  },
  {
   "cell_type": "markdown",
   "metadata": {},
   "source": [
    "### With Mongodb\n",
    "Only disc"
   ]
  },
  {
   "cell_type": "code",
   "execution_count": 69,
   "metadata": {},
   "outputs": [],
   "source": [
    "import pandas as pd\n",
    "pd.set_option('display.max_rows', 500)\n",
    "pd.set_option('display.max_columns', 500)\n",
    "pd.set_option('display.max_colwidth',200)"
   ]
  },
  {
   "cell_type": "code",
   "execution_count": 64,
   "metadata": {},
   "outputs": [],
   "source": [
    "br=pd.read_excel('/home/restrepo/colav/7.Datos/LA/Brasil/Original/Publicacoes-periodicos_2013-2020-Scopus.xlsx',nrows=10)"
   ]
  },
  {
   "cell_type": "code",
   "execution_count": 66,
   "metadata": {},
   "outputs": [
    {
     "data": {
      "text/plain": [
       "Index(['Authors', 'Author(s) ID', 'Title', 'Year', 'Source title', 'Volume',\n",
       "       'Issue', 'Art. No.', 'Page start', 'Page end', 'Page count', 'Cited by',\n",
       "       'DOI', 'Link', 'Affiliations', 'Authors with affiliations', 'Abstract',\n",
       "       'Author Keywords', 'Index Keywords', 'Molecular Sequence Numbers',\n",
       "       'Chemicals/CAS', 'Tradenames', 'Manufacturers', 'Funding Details',\n",
       "       'Funding Text 1', 'Funding Text 2', 'Funding Text 3', 'Funding Text 4',\n",
       "       'Funding Text 5', 'References', 'Correspondence Address', 'Editors',\n",
       "       'Sponsors', 'Publisher', 'Conference name', 'Conference date',\n",
       "       'Conference location', 'Conference code', 'ISSN', 'ISBN', 'CODEN',\n",
       "       'PubMed ID', 'Language of Original Document',\n",
       "       'Abbreviated Source Title', 'Document Type', 'Publication Stage',\n",
       "       'Access Type', 'Source', 'EID', 'ID bolsistas'],\n",
       "      dtype='object')"
      ]
     },
     "execution_count": 66,
     "metadata": {},
     "output_type": "execute_result"
    }
   ],
   "source": [
    "br.columns"
   ]
  },
  {
   "cell_type": "code",
   "execution_count": 84,
   "metadata": {},
   "outputs": [
    {
     "data": {
      "text/plain": [
       "{'Authors': 'SANCHES R., RAZKY A.',\n",
       " 'Title': 'Variação Linguística para Cigarro de Palha e Toco de Cigarro no Atlas Linguístico do Amapá',\n",
       " 'Year': 2015,\n",
       " 'Source title': 'Revista Todas as Letras (MACKENZIE. Online)',\n",
       " 'Volume': 17.0,\n",
       " 'Issue': nan,\n",
       " 'Page start': 196,\n",
       " 'Page end': 206.0,\n",
       " 'DOI': '10.15529/1980-6914/letras.v17n3p196-206',\n",
       " 'Author Keywords': nan,\n",
       " 'ISSN': 19806914,\n",
       " 'ID bolsistas': \"'8153913927369006\"}"
      ]
     },
     "execution_count": 84,
     "metadata": {},
     "output_type": "execute_result"
    }
   ],
   "source": [
    "do=br[['Authors',  'Title', 'Year', 'Source title', 'Volume',\n",
    "       'Issue',  'Page start', 'Page end','DOI', \n",
    "       'Author Keywords', 'ISSN',  'ID bolsistas']].loc[0].to_dict()\n",
    "do"
   ]
  },
  {
   "cell_type": "code",
   "execution_count": 24,
   "metadata": {},
   "outputs": [],
   "source": [
    "from pymongo import MongoClient\n",
    "from bson.objectid import ObjectId\n",
    "import sys"
   ]
  },
  {
   "cell_type": "code",
   "execution_count": 2,
   "metadata": {},
   "outputs": [],
   "source": [
    "client = MongoClient()"
   ]
  },
  {
   "cell_type": "code",
   "execution_count": 3,
   "metadata": {},
   "outputs": [],
   "source": [
    "client = MongoClient('localhost', 27017)"
   ]
  },
  {
   "cell_type": "code",
   "execution_count": 4,
   "metadata": {},
   "outputs": [],
   "source": [
    "#client.drop_database('la')"
   ]
  },
  {
   "cell_type": "code",
   "execution_count": 5,
   "metadata": {},
   "outputs": [
    {
     "data": {
      "text/plain": [
       "['br', 'la', 'local']"
      ]
     },
     "execution_count": 5,
     "metadata": {},
     "output_type": "execute_result"
    }
   ],
   "source": [
    "client.list_database_names()"
   ]
  },
  {
   "cell_type": "code",
   "execution_count": 6,
   "metadata": {},
   "outputs": [],
   "source": [
    "db = client['br']"
   ]
  },
  {
   "cell_type": "code",
   "execution_count": 7,
   "metadata": {},
   "outputs": [
    {
     "data": {
      "text/plain": [
       "['stage_cites',\n",
       " 'stage_cites_invalid',\n",
       " 'quarantine',\n",
       " 'stage_invalid',\n",
       " 'gslookup_not_found',\n",
       " 'data',\n",
       " 'cache_cites',\n",
       " 'stage']"
      ]
     },
     "execution_count": 7,
     "metadata": {},
     "output_type": "execute_result"
    }
   ],
   "source": [
    "db.list_collection_names()"
   ]
  },
  {
   "cell_type": "code",
   "execution_count": 8,
   "metadata": {},
   "outputs": [],
   "source": [
    "dt=db.get_collection('data')\n",
    "st=db.get_collection('stage')"
   ]
  },
  {
   "cell_type": "code",
   "execution_count": 39,
   "metadata": {},
   "outputs": [
    {
     "data": {
      "text/plain": [
       "418177"
      ]
     },
     "execution_count": 39,
     "metadata": {},
     "output_type": "execute_result"
    }
   ],
   "source": [
    "st.count_documents({})"
   ]
  },
  {
   "cell_type": "code",
   "execution_count": 187,
   "metadata": {},
   "outputs": [
    {
     "data": {
      "text/plain": [
       "0"
      ]
     },
     "execution_count": 187,
     "metadata": {},
     "output_type": "execute_result"
    }
   ],
   "source": [
    "400%100"
   ]
  },
  {
   "cell_type": "code",
   "execution_count": 190,
   "metadata": {},
   "outputs": [
    {
     "name": "stdout",
     "output_type": "stream",
     "text": [
      "437900\r"
     ]
    }
   ],
   "source": [
    "j=0\n",
    "br_new=pd.DataFrame()\n",
    "#cursor timeout: https://stackoverflow.com/a/24200795/2268280\n",
    "cursor=dt.find(no_cursor_timeout=True)\n",
    "for d in cursor:\n",
    "    i=d.get(\"article_id\")\n",
    "    #print(f'id: {i}')\n",
    "    l=[d for d in st.find({'article_id':str(i)})]\n",
    "    if l:\n",
    "        n=l[0].get('cites')\n",
    "        if not n:\n",
    "            n=0\n",
    "        d['cites']=n\n",
    "    else:\n",
    "        d['cites']=0\n",
    "    kk=[ d.pop(k) for k in \n",
    "        ['_id','publisher', 'country', 'abstract', 'language', 'article_id'] \n",
    "       ]\n",
    "    br_new=br_new.append(d,ignore_index=True)\n",
    "    if j%100==0:\n",
    "        print(str(j).zfill(6),end='\\r')\n",
    "    j+=1\n",
    "    #if j==20:\n",
    "    #    break\n",
    "cursor.close()    "
   ]
  },
  {
   "cell_type": "code",
   "execution_count": 206,
   "metadata": {},
   "outputs": [],
   "source": [
    "def check_page(p):\n",
    "    if isinstance(p,str):\n",
    "        return p\n",
    "    else:\n",
    "        return str(int(p))\n",
    "    \n",
    "br_new['ISSN']=br_new['ISSN'].apply(lambda x: str(int(x)).zfill(8) if isinstance(x,float) else str(x).zfill(8) )\n",
    "br_new['Page end']=br_new['Page end'].apply(lambda x: check_page(x) if not pd.isna(x) else None)\n",
    "br_new['Page start']=br_new['Page start'].apply(lambda x: check_page(x) if not pd.isna(x) else None)\n",
    "br_new['volume']=br_new['volume'].apply(lambda x: check_page(x) if not pd.isna(x) else None)\n",
    "br_new=br_new.astype({'year': int,'cites':int})"
   ]
  },
  {
   "cell_type": "code",
   "execution_count": 213,
   "metadata": {},
   "outputs": [],
   "source": [
    "br_new.to_excel('Publicacoes-periodicos_2013-2020-Scopus-con-citas.xlsx',index=False)"
   ]
  },
  {
   "cell_type": "code",
   "execution_count": 215,
   "metadata": {},
   "outputs": [
    {
     "name": "stdout",
     "output_type": "stream",
     "text": [
      "-rw-r--r-- 1 restrepo restrepo 78M Oct 19 22:31 Publicacoes-periodicos_2013-2020-Scopus-con-citas.xlsx\n"
     ]
    }
   ],
   "source": [
    "!ls -lh Publicacoes-periodicos_2013-2020-Scopus-con-citas.xlsx"
   ]
  },
  {
   "cell_type": "code",
   "execution_count": 4,
   "metadata": {},
   "outputs": [],
   "source": [
    "import wosplus as wp\n",
    "import pandas as pd"
   ]
  },
  {
   "cell_type": "code",
   "execution_count": 2,
   "metadata": {},
   "outputs": [
    {
     "name": "stdout",
     "output_type": "stream",
     "text": [
      "Writing drive.cfg\n"
     ]
    }
   ],
   "source": [
    "%%writefile drive.cfg\n",
    "[FILES]\n",
    "Publicacoes-periodicos_2013-2020-Scopus-con-citas_brasil.xlsx=104XwW61YaPA30KLsFBogTbX4wfg1LQGP"
   ]
  },
  {
   "cell_type": "code",
   "execution_count": 3,
   "metadata": {},
   "outputs": [],
   "source": [
    "gd=wp.wosplus('drive.cfg')"
   ]
  },
  {
   "cell_type": "code",
   "execution_count": 8,
   "metadata": {},
   "outputs": [],
   "source": [
    "br=gd.read_drive_excel('Publicacoes-periodicos_2013-2020-Scopus-con-citas_brasil.xlsx')"
   ]
  },
  {
   "cell_type": "code",
   "execution_count": 21,
   "metadata": {},
   "outputs": [],
   "source": [
    "df=pd.DataFrame( br.apply(lambda row: [{'ID':row.get('ID'),'author':x} for x in row.get('author').split(', ')],axis=1\n",
    "             ).apply(pd.Series).stack().to_list())"
   ]
  },
  {
   "cell_type": "code",
   "execution_count": 26,
   "metadata": {},
   "outputs": [],
   "source": [
    "df.to_csv('authors.csv',index=False)"
   ]
  },
  {
   "cell_type": "code",
   "execution_count": 2,
   "metadata": {},
   "outputs": [],
   "source": [
    "import pandas as pd"
   ]
  },
  {
   "cell_type": "code",
   "execution_count": 3,
   "metadata": {},
   "outputs": [],
   "source": [
    "df=pd.read_csv('authors.csv')"
   ]
  },
  {
   "cell_type": "code",
   "execution_count": 6,
   "metadata": {},
   "outputs": [],
   "source": [
    "df=df.reset_index(drop=True)"
   ]
  },
  {
   "cell_type": "code",
   "execution_count": 7,
   "metadata": {},
   "outputs": [
    {
     "data": {
      "text/plain": [
       "(8034544, 2)"
      ]
     },
     "execution_count": 7,
     "metadata": {},
     "output_type": "execute_result"
    }
   ],
   "source": [
    "df.shape"
   ]
  },
  {
   "cell_type": "code",
   "execution_count": 12,
   "metadata": {},
   "outputs": [],
   "source": [
    "import numpy as np"
   ]
  },
  {
   "cell_type": "code",
   "execution_count": 19,
   "metadata": {},
   "outputs": [],
   "source": [
    "r=range(0,10000000,1000000)"
   ]
  },
  {
   "cell_type": "code",
   "execution_count": 26,
   "metadata": {},
   "outputs": [
    {
     "data": {
      "text/html": [
       "<div>\n",
       "<style scoped>\n",
       "    .dataframe tbody tr th:only-of-type {\n",
       "        vertical-align: middle;\n",
       "    }\n",
       "\n",
       "    .dataframe tbody tr th {\n",
       "        vertical-align: top;\n",
       "    }\n",
       "\n",
       "    .dataframe thead th {\n",
       "        text-align: right;\n",
       "    }\n",
       "</style>\n",
       "<table border=\"1\" class=\"dataframe\">\n",
       "  <thead>\n",
       "    <tr style=\"text-align: right;\">\n",
       "      <th></th>\n",
       "      <th>ID</th>\n",
       "      <th>author</th>\n",
       "    </tr>\n",
       "  </thead>\n",
       "  <tbody>\n",
       "    <tr>\n",
       "      <th>2000000</th>\n",
       "      <td>57678</td>\n",
       "      <td>Hos I.</td>\n",
       "    </tr>\n",
       "    <tr>\n",
       "      <th>2000001</th>\n",
       "      <td>57678</td>\n",
       "      <td>Kangal E.E.</td>\n",
       "    </tr>\n",
       "    <tr>\n",
       "      <th>2000002</th>\n",
       "      <td>57678</td>\n",
       "      <td>Kayis Topaksu A.</td>\n",
       "    </tr>\n",
       "    <tr>\n",
       "      <th>2000003</th>\n",
       "      <td>57678</td>\n",
       "      <td>Onengut G.</td>\n",
       "    </tr>\n",
       "    <tr>\n",
       "      <th>2000004</th>\n",
       "      <td>57678</td>\n",
       "      <td>Ozdemir K.</td>\n",
       "    </tr>\n",
       "    <tr>\n",
       "      <th>...</th>\n",
       "      <td>...</td>\n",
       "      <td>...</td>\n",
       "    </tr>\n",
       "    <tr>\n",
       "      <th>2999995</th>\n",
       "      <td>79510</td>\n",
       "      <td>Iodice M.</td>\n",
       "    </tr>\n",
       "    <tr>\n",
       "      <th>2999996</th>\n",
       "      <td>79510</td>\n",
       "      <td>Iordanidou K.</td>\n",
       "    </tr>\n",
       "    <tr>\n",
       "      <th>2999997</th>\n",
       "      <td>79510</td>\n",
       "      <td>Ippolito V.</td>\n",
       "    </tr>\n",
       "    <tr>\n",
       "      <th>2999998</th>\n",
       "      <td>79510</td>\n",
       "      <td>Irles Quiles A.</td>\n",
       "    </tr>\n",
       "    <tr>\n",
       "      <th>2999999</th>\n",
       "      <td>79510</td>\n",
       "      <td>Isaksson C.</td>\n",
       "    </tr>\n",
       "  </tbody>\n",
       "</table>\n",
       "<p>1000000 rows × 2 columns</p>\n",
       "</div>"
      ],
      "text/plain": [
       "            ID            author\n",
       "2000000  57678            Hos I.\n",
       "2000001  57678       Kangal E.E.\n",
       "2000002  57678  Kayis Topaksu A.\n",
       "2000003  57678        Onengut G.\n",
       "2000004  57678        Ozdemir K.\n",
       "...        ...               ...\n",
       "2999995  79510         Iodice M.\n",
       "2999996  79510     Iordanidou K.\n",
       "2999997  79510       Ippolito V.\n",
       "2999998  79510   Irles Quiles A.\n",
       "2999999  79510       Isaksson C.\n",
       "\n",
       "[1000000 rows x 2 columns]"
      ]
     },
     "execution_count": 26,
     "metadata": {},
     "output_type": "execute_result"
    }
   ],
   "source": [
    "df[2000000:3000000]"
   ]
  },
  {
   "cell_type": "code",
   "execution_count": 27,
   "metadata": {},
   "outputs": [
    {
     "name": "stdout",
     "output_type": "stream",
     "text": [
      "0 → 0 1000000\n",
      "1 → 1000000 2000000\n",
      "2 → 2000000 3000000\n",
      "3 → 3000000 4000000\n",
      "4 → 4000000 5000000\n",
      "5 → 5000000 6000000\n",
      "6 → 6000000 7000000\n",
      "7 → 7000000 8000000\n",
      "8 → 8000000 9000000\n"
     ]
    }
   ],
   "source": [
    "for i in range(len(r)):\n",
    "    print(i,'→',r[i],r[i+1])\n",
    "    df[r[i]:r[i+1]].to_excel(f'authors_{i+1}.xlsx',index=False)\n",
    "    if i==len(r)-2:\n",
    "        break"
   ]
  },
  {
   "cell_type": "code",
   "execution_count": 27,
   "metadata": {},
   "outputs": [
    {
     "name": "stdout",
     "output_type": "stream",
     "text": [
      "-rw-r--r-- 1 restrepo restrepo 144M Oct 20 19:31 authors.csv\r\n"
     ]
    }
   ],
   "source": [
    "ls -lh authors.csv"
   ]
  },
  {
   "cell_type": "code",
   "execution_count": 1,
   "metadata": {},
   "outputs": [
    {
     "ename": "NameError",
     "evalue": "name 'df' is not defined",
     "output_type": "error",
     "traceback": [
      "\u001b[0;31m---------------------------------------------------------------------------\u001b[0m",
      "\u001b[0;31mNameError\u001b[0m                                 Traceback (most recent call last)",
      "\u001b[0;32m/tmp/ipykernel_2787456/2640662649.py\u001b[0m in \u001b[0;36m<module>\u001b[0;34m\u001b[0m\n\u001b[0;32m----> 1\u001b[0;31m \u001b[0mdf\u001b[0m\u001b[0;34m[\u001b[0m\u001b[0;34m'ID'\u001b[0m\u001b[0;34m]\u001b[0m\u001b[0;34m.\u001b[0m\u001b[0munique\u001b[0m\u001b[0;34m(\u001b[0m\u001b[0;34m)\u001b[0m\u001b[0;34m.\u001b[0m\u001b[0mshape\u001b[0m\u001b[0;34m\u001b[0m\u001b[0;34m\u001b[0m\u001b[0m\n\u001b[0m",
      "\u001b[0;31mNameError\u001b[0m: name 'df' is not defined"
     ]
    }
   ],
   "source": [
    "df['ID'].unique().shape"
   ]
  },
  {
   "cell_type": "code",
   "execution_count": 31,
   "metadata": {},
   "outputs": [
    {
     "name": "stdout",
     "output_type": "stream",
     "text": [
      "Object `value_counts` not found.\n"
     ]
    }
   ],
   "source": [
    "df['ID'].value_counts?"
   ]
  },
  {
   "cell_type": "code",
   "execution_count": 32,
   "metadata": {},
   "outputs": [
    {
     "data": {
      "text/plain": [
       "295104    2680\n",
       "34323     2673\n",
       "240399    2655\n",
       "57472     2652\n",
       "57476     2651\n",
       "          ... \n",
       "334166       1\n",
       "334165       1\n",
       "334157       1\n",
       "334153       1\n",
       "409020       1\n",
       "Name: ID, Length: 437952, dtype: int64"
      ]
     },
     "execution_count": 32,
     "metadata": {},
     "output_type": "execute_result"
    }
   ],
   "source": [
    "df['ID'].value_counts()"
   ]
  },
  {
   "cell_type": "code",
   "execution_count": null,
   "metadata": {},
   "outputs": [],
   "source": [
    "df['ID'].values_counts"
   ]
  },
  {
   "cell_type": "code",
   "execution_count": null,
   "metadata": {},
   "outputs": [],
   "source": []
  }
 ],
 "metadata": {
  "kernelspec": {
   "display_name": "Python 3 (ipykernel)",
   "language": "python",
   "name": "python3"
  },
  "language_info": {
   "codemirror_mode": {
    "name": "ipython",
    "version": 3
   },
   "file_extension": ".py",
   "mimetype": "text/x-python",
   "name": "python",
   "nbconvert_exporter": "python",
   "pygments_lexer": "ipython3",
   "version": "3.9.2"
  }
 },
 "nbformat": 4,
 "nbformat_minor": 4
}
